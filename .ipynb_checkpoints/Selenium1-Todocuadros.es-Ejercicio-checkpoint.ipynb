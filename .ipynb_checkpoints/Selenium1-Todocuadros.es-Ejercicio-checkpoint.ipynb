{
 "cells": [
  {
   "cell_type": "code",
   "execution_count": 1,
   "metadata": {},
   "outputs": [],
   "source": [
    "import requests\n",
    "from time import sleep, strftime\n",
    "import random\n",
    "from random import randint\n",
    "from bs4 import BeautifulSoup\n",
    "from selenium import webdriver\n",
    "import shutil\n",
    "import pickle"
   ]
  },
  {
   "cell_type": "code",
   "execution_count": 2,
   "metadata": {},
   "outputs": [],
   "source": [
    "#Driver de chrome \n",
    "chrome_driver = \"chromedriver.exe\""
   ]
  },
  {
   "cell_type": "code",
   "execution_count": 3,
   "metadata": {},
   "outputs": [],
   "source": [
    "navegador = webdriver.Chrome(executable_path=chrome_driver)"
   ]
  },
  {
   "cell_type": "code",
   "execution_count": 4,
   "metadata": {},
   "outputs": [],
   "source": [
    "navegador.get(\"https://www.todocuadros.es/\") "
   ]
  },
  {
   "cell_type": "code",
   "execution_count": 5,
   "metadata": {},
   "outputs": [],
   "source": [
    "sleep(randint(2,5))\n",
    "navegador.find_element_by_partial_link_text('Cuenta').click()"
   ]
  },
  {
   "cell_type": "code",
   "execution_count": 6,
   "metadata": {},
   "outputs": [],
   "source": [
    "sleep(randint(2,5))\n",
    "navegador.find_element_by_link_text('Acceder').click()"
   ]
  },
  {
   "cell_type": "code",
   "execution_count": 7,
   "metadata": {},
   "outputs": [],
   "source": [
    "Email = \"adrianceja1@gmail.com\"\n",
    "Contraseña = \"NEOLAND2020\"\n",
    "usuario = navegador.find_element_by_id('email')\n",
    "usuario.send_keys(Email)\n",
    "\n",
    "sleep(randint(2,5))\n",
    "\n",
    "contra = navegador.find_element_by_id('pass')\n",
    "contra.send_keys(Contraseña)\n",
    "\n",
    "sleep(randint(2,5))\n",
    "\n",
    "usuario.submit()"
   ]
  },
  {
   "cell_type": "code",
   "execution_count": 9,
   "metadata": {},
   "outputs": [],
   "source": [
    "sleep(randint(2,5))\n",
    "busq = navegador.find_element_by_id(\"search\")\n",
    "busq.send_keys(\"Pablo Picasso\")\n",
    "sleep(randint(2,5))\n",
    "busq.submit()"
   ]
  },
  {
   "cell_type": "code",
   "execution_count": 10,
   "metadata": {},
   "outputs": [],
   "source": [
    "source = navegador.page_source #Descarga el código fuente de la página donde me encuentro actualmente"
   ]
  },
  {
   "cell_type": "code",
   "execution_count": 13,
   "metadata": {},
   "outputs": [],
   "source": [
    "soup = BeautifulSoup(source)"
   ]
  },
  {
   "cell_type": "code",
   "execution_count": 20,
   "metadata": {},
   "outputs": [],
   "source": [
    "cuadros =[i.text for i in soup.find_all(\"span\", class_=\"snize-title\")]"
   ]
  },
  {
   "cell_type": "code",
   "execution_count": 25,
   "metadata": {},
   "outputs": [
    {
     "data": {
      "text/plain": [
       "'Mesa frente a Ventana'"
      ]
     },
     "execution_count": 25,
     "metadata": {},
     "output_type": "execute_result"
    }
   ],
   "source": [
    "cuadros[0]"
   ]
  },
  {
   "cell_type": "code",
   "execution_count": 24,
   "metadata": {},
   "outputs": [],
   "source": [
    "sleep(4)\n",
    "navegador.find_element_by_partial_link_text(cuadros[0]).click()"
   ]
  },
  {
   "cell_type": "code",
   "execution_count": 15,
   "metadata": {},
   "outputs": [],
   "source": [
    "#<img itemprop=\"image\" src=\"https://www.todocuadros.es/media/catalog/product/cache/10/image/342x490/a4b764e5482f62fb51dae89ed3917009/p/i/picasso-mesa-ventana.jpg\" alt=\"Mesa frente a Ventana\">\n",
    "#<img src=\"https://www.todocuadros.es/media/catalog/product/cache/10/small_image/300x300/040ec09b1e35df139433887a97daa66f/p/i/picasso-mesa-ventana.jpg\" class=\"snize-item-image\" alt=\"Mesa frente a Ventana\" border=\"0\">"
   ]
  },
  {
   "cell_type": "code",
   "execution_count": 26,
   "metadata": {},
   "outputs": [],
   "source": [
    "soup = BeautifulSoup(navegador.page_source)"
   ]
  },
  {
   "cell_type": "code",
   "execution_count": 42,
   "metadata": {},
   "outputs": [
    {
     "data": {
      "text/plain": [
       "'https://www.todocuadros.es/media/catalog/product/cache/10/image/d7e334e937074b0c9e4540c5d6ff7b5f/p/i/picasso-mesa-ventana.jpg'"
      ]
     },
     "execution_count": 42,
     "metadata": {},
     "output_type": "execute_result"
    }
   ],
   "source": [
    "img_cuadro = soup.find(\"div\", class_=\"magic-slide mt-active\").find(\"a\")[\"href\"]\n",
    "img_cuadro"
   ]
  },
  {
   "cell_type": "code",
   "execution_count": 46,
   "metadata": {},
   "outputs": [
    {
     "data": {
      "text/plain": [
       "'https://www.todocuadros.es/media/catalog/product/cache/10/image/d7e334e937074b0c9e4540c5d6ff7b5f/p/i/picasso-mesa-ventana.jpg'"
      ]
     },
     "execution_count": 46,
     "metadata": {},
     "output_type": "execute_result"
    }
   ],
   "source": [
    "img_cuadro = soup.find(\"a\", class_=\"MagicThumb\")[\"href\"]\n",
    "img_cuadro"
   ]
  },
  {
   "cell_type": "code",
   "execution_count": 47,
   "metadata": {},
   "outputs": [],
   "source": [
    "resp = requests.get(img_cuadro, stream = True) #Agregamos el parametro stream para que no descargue el cuerpo de la página"
   ]
  },
  {
   "cell_type": "code",
   "execution_count": 48,
   "metadata": {},
   "outputs": [],
   "source": [
    "imagenpicasso = open('foto_8.jpg', 'wb') #wb crear un archivo binario \n",
    "resp.raw.decode_content = True\n",
    "shutil.copyfileobj(resp.raw, imagenpicasso)\n",
    "imagenpicasso.close()"
   ]
  },
  {
   "cell_type": "code",
   "execution_count": null,
   "metadata": {},
   "outputs": [],
   "source": [
    "navegador.quit()"
   ]
  },
  {
   "cell_type": "markdown",
   "metadata": {},
   "source": [
    "### Ejercicio"
   ]
  },
  {
   "cell_type": "code",
   "execution_count": 1,
   "metadata": {},
   "outputs": [],
   "source": [
    "import requests\n",
    "from time import sleep, strftime\n",
    "import random\n",
    "from random import randint\n",
    "from bs4 import BeautifulSoup\n",
    "from selenium import webdriver\n",
    "import shutil\n",
    "import pickle"
   ]
  },
  {
   "cell_type": "code",
   "execution_count": null,
   "metadata": {},
   "outputs": [],
   "source": [
    "#Driver de chrome \n",
    "chrome_driver = \"chromedriver.exe\""
   ]
  }
 ],
 "metadata": {
  "kernelspec": {
   "display_name": "Python 3",
   "language": "python",
   "name": "python3"
  },
  "language_info": {
   "codemirror_mode": {
    "name": "ipython",
    "version": 3
   },
   "file_extension": ".py",
   "mimetype": "text/x-python",
   "name": "python",
   "nbconvert_exporter": "python",
   "pygments_lexer": "ipython3",
   "version": "3.7.4"
  }
 },
 "nbformat": 4,
 "nbformat_minor": 2
}
