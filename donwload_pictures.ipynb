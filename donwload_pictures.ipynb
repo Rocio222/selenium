{
 "cells": [
  {
   "cell_type": "markdown",
   "metadata": {},
   "source": [
    "### Download pictures"
   ]
  },
  {
   "cell_type": "code",
   "execution_count": 1,
   "metadata": {},
   "outputs": [],
   "source": [
    "import requests\n",
    "from time import sleep, strftime\n",
    "import random\n",
    "from random import randint\n",
    "from bs4 import BeautifulSoup\n",
    "from selenium import webdriver\n",
    "import shutil\n",
    "import pickle\n",
    "import os"
   ]
  },
  {
   "cell_type": "code",
   "execution_count": 2,
   "metadata": {},
   "outputs": [],
   "source": [
    "chrome_driver = (\"/Users/rociocuestapedraz/Desktop/PYTHON bootcamp DS/scripts/selenium/chromedriver\")"
   ]
  },
  {
   "cell_type": "code",
   "execution_count": 3,
   "metadata": {},
   "outputs": [],
   "source": [
    "navegador = webdriver.Chrome(executable_path=chrome_driver)"
   ]
  },
  {
   "cell_type": "code",
   "execution_count": 4,
   "metadata": {},
   "outputs": [],
   "source": [
    "#LLegar hasta el inicio de sesion:\n",
    "navegador.get(\"https://www.todocuadros.es/\")\n",
    "sleep(randint(2,5))\n",
    "navegador.find_element_by_partial_link_text('Cuenta').click()\n",
    "sleep(randint(2,5))\n",
    "navegador.find_element_by_link_text('Acceder').click()\n",
    "\n",
    "Email = \"adrianceja1@gmail.com\"\n",
    "Contraseña = \"NEOLAND2020\"\n",
    "usuario = navegador.find_element_by_id('email')\n",
    "usuario.send_keys(Email)\n",
    "\n",
    "sleep(randint(2,5))\n",
    "\n",
    "contra = navegador.find_element_by_id('pass')\n",
    "contra.send_keys(Contraseña)\n",
    "\n",
    "sleep(randint(2,5))\n",
    "\n",
    "usuario.submit()\n",
    "sleep(randint(2,5))"
   ]
  },
  {
   "cell_type": "code",
   "execution_count": 5,
   "metadata": {},
   "outputs": [],
   "source": [
    "#Creo la carpeta de fotos\n",
    "os.mkdir('carpeta fotos')"
   ]
  },
  {
   "cell_type": "code",
   "execution_count": 6,
   "metadata": {},
   "outputs": [
    {
     "name": "stdout",
     "output_type": "stream",
     "text": [
      "0\n",
      "1\n",
      "2\n",
      "3\n",
      "4\n",
      "0\n",
      "1\n",
      "2\n",
      "3\n",
      "4\n",
      "0\n",
      "1\n",
      "2\n",
      "3\n",
      "4\n"
     ]
    }
   ],
   "source": [
    "#Busco el pintor que quiero\n",
    "keys=[\"vincent van gogh\",\"Picasso\",\"dali Salvador\"]\n",
    "for key in keys:\n",
    "    busq = navegador.find_element_by_id(\"search\")\n",
    "    busq.send_keys(key)\n",
    "    sleep(randint(2,5))\n",
    "    busq.submit()\n",
    "    source = navegador.page_source\n",
    "    soup = BeautifulSoup(source)\n",
    "    #Creo una lista con el nombre de los cuadros\n",
    "    cuadros =[i.text for i in soup.find_all(\"span\", class_=\"snize-title\")]\n",
    "    for i in range(5):\n",
    "        print(i)\n",
    "        navegador.find_element_by_partial_link_text(cuadros[i]).click()\n",
    "        sleep(randint(2,5))\n",
    "        soup = BeautifulSoup(navegador.page_source)\n",
    "        sleep(randint(2,5))\n",
    "    \n",
    "        img_cuadro = soup.find(\"a\", class_=\"MagicThumb\")[\"href\"]\n",
    "        sleep(randint(2,5))\n",
    "        resp = requests.get(img_cuadro, stream = True)\n",
    "        sleep(randint(2,5))\n",
    "        imagen=\"imagen\"+str(i) \n",
    "        imagen= open(\"/Users/rociocuestapedraz/Desktop/PYTHON bootcamp DS/scripts/selenium/carpeta fotos/foto\"+str(i)+str(key)+\".jpg\", 'wb')\n",
    "    \n",
    "        resp.raw.decode_content = True\n",
    "    \n",
    "        shutil.copyfileobj(resp.raw, imagen)\n",
    "    \n",
    "        imagen.close()\n",
    "        if i <4:\n",
    "            busq = navegador.find_element_by_id(\"search\")\n",
    "        \n",
    "            busq.send_keys(key)\n",
    "            sleep(randint(2,5))\n",
    "            busq.submit()\n",
    "            sleep(2)"
   ]
  },
  {
   "cell_type": "code",
   "execution_count": null,
   "metadata": {},
   "outputs": [],
   "source": []
  },
  {
   "cell_type": "code",
   "execution_count": null,
   "metadata": {},
   "outputs": [],
   "source": []
  },
  {
   "cell_type": "code",
   "execution_count": null,
   "metadata": {},
   "outputs": [],
   "source": []
  },
  {
   "cell_type": "code",
   "execution_count": null,
   "metadata": {},
   "outputs": [],
   "source": []
  },
  {
   "cell_type": "code",
   "execution_count": null,
   "metadata": {},
   "outputs": [],
   "source": []
  }
 ],
 "metadata": {
  "kernelspec": {
   "display_name": "Python 3",
   "language": "python",
   "name": "python3"
  },
  "language_info": {
   "codemirror_mode": {
    "name": "ipython",
    "version": 3
   },
   "file_extension": ".py",
   "mimetype": "text/x-python",
   "name": "python",
   "nbconvert_exporter": "python",
   "pygments_lexer": "ipython3",
   "version": "3.7.4"
  }
 },
 "nbformat": 4,
 "nbformat_minor": 4
}
